{
 "cells": [
  {
   "cell_type": "code",
   "execution_count": 1,
   "metadata": {},
   "outputs": [],
   "source": [
    "import pandas as pd\n",
    "import fingertips_py as ftp\n",
    "from tqdm.notebook import tqdm"
   ]
  },
  {
   "cell_type": "code",
   "execution_count": 4,
   "metadata": {},
   "outputs": [],
   "source": [
    "chosen_indicators = pd.read_excel(\".\\A_Assumptions\\ChosenIndicators prevalence.xlsx\")"
   ]
  },
  {
   "cell_type": "code",
   "execution_count": 5,
   "metadata": {
    "tags": []
   },
   "outputs": [
    {
     "data": {
      "application/vnd.jupyter.widget-view+json": {
       "model_id": "dca0717a340741ea8070c37c63531858",
       "version_major": 2,
       "version_minor": 0
      },
      "text/plain": [
       "0it [00:00, ?it/s]"
      ]
     },
     "metadata": {},
     "output_type": "display_data"
    }
   ],
   "source": [
    "for ix, row in tqdm(chosen_indicators.iterrows()):\r\n",
    "    indicatorId = row[\"IndicatorId\"]\r\n",
    "    areaTypeId = row[\"AreaTypeId\"]\r\n",
    "    df = ftp.retrieve_data.get_all_data_for_indicators(\r\n",
    "\t    indicatorId,\r\n",
    "        areaTypeId\r\n",
    "\t)\r\n",
    "    df.to_csv(f\"./X_Output/fingertips-{indicatorId}-{areaTypeId}.csv\")\r\n"
   ]
  },
  {
   "cell_type": "code",
   "execution_count": null,
   "metadata": {},
   "outputs": [],
   "source": []
  }
 ],
 "metadata": {
  "interpreter": {
   "hash": "746fdf7af0d02e5539c734e124077b18573c92b07292fe1006faf1cb0189ae42"
  },
  "kernelspec": {
   "display_name": "Python 3.7.10 64-bit ('DataScience2021Q1': conda)",
   "name": "python3"
  },
  "language_info": {
   "codemirror_mode": {
    "name": "ipython",
    "version": 3
   },
   "file_extension": ".py",
   "mimetype": "text/x-python",
   "name": "python",
   "nbconvert_exporter": "python",
   "pygments_lexer": "ipython3",
   "version": "3.7.10"
  },
  "orig_nbformat": 4
 },
 "nbformat": 4,
 "nbformat_minor": 2
}